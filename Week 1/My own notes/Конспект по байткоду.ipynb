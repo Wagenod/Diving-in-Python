{
 "cells": [
  {
   "cell_type": "markdown",
   "metadata": {},
   "source": [
    "# 0. Введение\n",
    "\n",
    "После того, как мы запускаем исходный код программы, Python сначала компилирует исходный текст в байт-код для виртуальной машины.   \n",
    "\n",
    "**Компиляция** - это просто этап перевода, а байт-код это низкоуровневое платформонезависимое представление исходного текста программы.   \n",
    "\n",
    "Python транслирует каждую инструкцию в исходном коде программы в группы инструкций байт-кода для повышения скорости выполнения программы, так как байт-код выполняется намного быстрее. \n",
    "\n",
    "При импорте пакета или модуля создается файл с расширением `.pyc` по соседству с исходным файлом модуля `__init__.py` для пакета).  В следующий раз, когда мы захотим импортировать модуль (пакет) интерпретатор минует этап компиляции и отдаст на выполнение соответствующий откомпилированный файл с расширением `.pyc`. Однако, если мы изменяли исходный код модуля (файла `__init__.py` для пакета), то снова произойдет этап компиляции в байт-код, так как Python автоматически следит за датой изменения файла с исходным кодом.\n",
    "\n",
    "Если Python окажется не в состоянии записать файл с байт-кодом, например из-за отсутствия прав на запись на диск, то программа не пострадает, просто байт-код будет собран в памяти и при завершении программы оттуда удален.\n",
    "\n",
    "После того как пройдет процесс компиляции, байт-код передается механизму под названием виртуальная машина, которая и выполнит инструкции из байт-кода.  \n",
    "\n",
    "**Виртуальная машина** - это механизм, который осуществляет перевод байткода в машинный код и непостредственно само выполнение программы. Она является составляющей частью системы \"Интерпретатор Python\". \n",
    "\n",
    "\n",
    "<img src=\"img\\steps.png\">"
   ]
  },
  {
   "cell_type": "markdown",
   "metadata": {},
   "source": [
    "# 1. Практика\n",
    "\n",
    "Давайте создадим модуль `module.py`со следующим исходным кодом.\n",
    "\n",
    "```\n",
    "   #module.py\n",
    "    \n",
    "   print(\"Importing module module.py\")\n",
    "   \n",
    "   var_1 = 1\n",
    "   var_2 =\"VAR_2\"\n",
    "   \n",
    "   def foo():\n",
    "       print(\"In function foo\")\n",
    "   \n",
    "   foo()\n",
    "    \n",
    "   if __name__ == '__main__':\n",
    "        print(\"In __main__  part\")\n",
    "   \n",
    "```\n",
    "\n",
    "Импортируем его"
   ]
  },
  {
   "cell_type": "code",
   "execution_count": 1,
   "metadata": {},
   "outputs": [
    {
     "name": "stdout",
     "output_type": "stream",
     "text": [
      "Importing module module.py\n",
      "In function foo\n"
     ]
    }
   ],
   "source": [
    "import module"
   ]
  },
  {
   "cell_type": "markdown",
   "metadata": {},
   "source": [
    "Заметим, что создался `.pyc` файл с байткодом этого модуля по пути `module.__cached__`. "
   ]
  },
  {
   "cell_type": "code",
   "execution_count": 4,
   "metadata": {},
   "outputs": [
    {
     "data": {
      "text/plain": [
       "'C:\\\\Users\\\\admin\\\\Diving-in-Python\\\\Week 1\\\\Конспекты\\\\__pycache__\\\\module.cpython-37.pyc'"
      ]
     },
     "execution_count": 4,
     "metadata": {},
     "output_type": "execute_result"
    }
   ],
   "source": [
    "module.__cached__"
   ]
  },
  {
   "cell_type": "code",
   "execution_count": 11,
   "metadata": {},
   "outputs": [],
   "source": [
    "import dis"
   ]
  },
  {
   "cell_type": "code",
   "execution_count": 6,
   "metadata": {},
   "outputs": [
    {
     "name": "stdout",
     "output_type": "stream",
     "text": [
      "Disassembly of foo:\n",
      "  9           0 LOAD_GLOBAL              0 (print)\n",
      "              2 LOAD_CONST               1 ('In function foo')\n",
      "              4 CALL_FUNCTION            1\n",
      "              6 POP_TOP\n",
      "              8 LOAD_CONST               0 (None)\n",
      "             10 RETURN_VALUE\n",
      "\n"
     ]
    }
   ],
   "source": [
    "dis.dis(module)"
   ]
  },
  {
   "cell_type": "code",
   "execution_count": 47,
   "metadata": {},
   "outputs": [],
   "source": [
    "import opcode"
   ]
  },
  {
   "cell_type": "code",
   "execution_count": 50,
   "metadata": {},
   "outputs": [
    {
     "data": {
      "text/plain": [
       "{'POP_TOP': 1,\n",
       " 'ROT_TWO': 2,\n",
       " 'ROT_THREE': 3,\n",
       " 'DUP_TOP': 4,\n",
       " 'DUP_TOP_TWO': 5,\n",
       " 'NOP': 9,\n",
       " 'UNARY_POSITIVE': 10,\n",
       " 'UNARY_NEGATIVE': 11,\n",
       " 'UNARY_NOT': 12,\n",
       " 'UNARY_INVERT': 15,\n",
       " 'BINARY_MATRIX_MULTIPLY': 16,\n",
       " 'INPLACE_MATRIX_MULTIPLY': 17,\n",
       " 'BINARY_POWER': 19,\n",
       " 'BINARY_MULTIPLY': 20,\n",
       " 'BINARY_MODULO': 22,\n",
       " 'BINARY_ADD': 23,\n",
       " 'BINARY_SUBTRACT': 24,\n",
       " 'BINARY_SUBSCR': 25,\n",
       " 'BINARY_FLOOR_DIVIDE': 26,\n",
       " 'BINARY_TRUE_DIVIDE': 27,\n",
       " 'INPLACE_FLOOR_DIVIDE': 28,\n",
       " 'INPLACE_TRUE_DIVIDE': 29,\n",
       " 'GET_AITER': 50,\n",
       " 'GET_ANEXT': 51,\n",
       " 'BEFORE_ASYNC_WITH': 52,\n",
       " 'INPLACE_ADD': 55,\n",
       " 'INPLACE_SUBTRACT': 56,\n",
       " 'INPLACE_MULTIPLY': 57,\n",
       " 'INPLACE_MODULO': 59,\n",
       " 'STORE_SUBSCR': 60,\n",
       " 'DELETE_SUBSCR': 61,\n",
       " 'BINARY_LSHIFT': 62,\n",
       " 'BINARY_RSHIFT': 63,\n",
       " 'BINARY_AND': 64,\n",
       " 'BINARY_XOR': 65,\n",
       " 'BINARY_OR': 66,\n",
       " 'INPLACE_POWER': 67,\n",
       " 'GET_ITER': 68,\n",
       " 'GET_YIELD_FROM_ITER': 69,\n",
       " 'PRINT_EXPR': 70,\n",
       " 'LOAD_BUILD_CLASS': 71,\n",
       " 'YIELD_FROM': 72,\n",
       " 'GET_AWAITABLE': 73,\n",
       " 'INPLACE_LSHIFT': 75,\n",
       " 'INPLACE_RSHIFT': 76,\n",
       " 'INPLACE_AND': 77,\n",
       " 'INPLACE_XOR': 78,\n",
       " 'INPLACE_OR': 79,\n",
       " 'BREAK_LOOP': 80,\n",
       " 'WITH_CLEANUP_START': 81,\n",
       " 'WITH_CLEANUP_FINISH': 82,\n",
       " 'RETURN_VALUE': 83,\n",
       " 'IMPORT_STAR': 84,\n",
       " 'SETUP_ANNOTATIONS': 85,\n",
       " 'YIELD_VALUE': 86,\n",
       " 'POP_BLOCK': 87,\n",
       " 'END_FINALLY': 88,\n",
       " 'POP_EXCEPT': 89,\n",
       " 'STORE_NAME': 90,\n",
       " 'DELETE_NAME': 91,\n",
       " 'UNPACK_SEQUENCE': 92,\n",
       " 'FOR_ITER': 93,\n",
       " 'UNPACK_EX': 94,\n",
       " 'STORE_ATTR': 95,\n",
       " 'DELETE_ATTR': 96,\n",
       " 'STORE_GLOBAL': 97,\n",
       " 'DELETE_GLOBAL': 98,\n",
       " 'LOAD_CONST': 100,\n",
       " 'LOAD_NAME': 101,\n",
       " 'BUILD_TUPLE': 102,\n",
       " 'BUILD_LIST': 103,\n",
       " 'BUILD_SET': 104,\n",
       " 'BUILD_MAP': 105,\n",
       " 'LOAD_ATTR': 106,\n",
       " 'COMPARE_OP': 107,\n",
       " 'IMPORT_NAME': 108,\n",
       " 'IMPORT_FROM': 109,\n",
       " 'JUMP_FORWARD': 110,\n",
       " 'JUMP_IF_FALSE_OR_POP': 111,\n",
       " 'JUMP_IF_TRUE_OR_POP': 112,\n",
       " 'JUMP_ABSOLUTE': 113,\n",
       " 'POP_JUMP_IF_FALSE': 114,\n",
       " 'POP_JUMP_IF_TRUE': 115,\n",
       " 'LOAD_GLOBAL': 116,\n",
       " 'CONTINUE_LOOP': 119,\n",
       " 'SETUP_LOOP': 120,\n",
       " 'SETUP_EXCEPT': 121,\n",
       " 'SETUP_FINALLY': 122,\n",
       " 'LOAD_FAST': 124,\n",
       " 'STORE_FAST': 125,\n",
       " 'DELETE_FAST': 126,\n",
       " 'RAISE_VARARGS': 130,\n",
       " 'CALL_FUNCTION': 131,\n",
       " 'MAKE_FUNCTION': 132,\n",
       " 'BUILD_SLICE': 133,\n",
       " 'LOAD_CLOSURE': 135,\n",
       " 'LOAD_DEREF': 136,\n",
       " 'STORE_DEREF': 137,\n",
       " 'DELETE_DEREF': 138,\n",
       " 'CALL_FUNCTION_KW': 141,\n",
       " 'CALL_FUNCTION_EX': 142,\n",
       " 'SETUP_WITH': 143,\n",
       " 'LIST_APPEND': 145,\n",
       " 'SET_ADD': 146,\n",
       " 'MAP_ADD': 147,\n",
       " 'LOAD_CLASSDEREF': 148,\n",
       " 'EXTENDED_ARG': 144,\n",
       " 'BUILD_LIST_UNPACK': 149,\n",
       " 'BUILD_MAP_UNPACK': 150,\n",
       " 'BUILD_MAP_UNPACK_WITH_CALL': 151,\n",
       " 'BUILD_TUPLE_UNPACK': 152,\n",
       " 'BUILD_SET_UNPACK': 153,\n",
       " 'SETUP_ASYNC_WITH': 154,\n",
       " 'FORMAT_VALUE': 155,\n",
       " 'BUILD_CONST_KEY_MAP': 156,\n",
       " 'BUILD_STRING': 157,\n",
       " 'BUILD_TUPLE_UNPACK_WITH_CALL': 158,\n",
       " 'LOAD_METHOD': 160,\n",
       " 'CALL_METHOD': 161}"
      ]
     },
     "execution_count": 50,
     "metadata": {},
     "output_type": "execute_result"
    }
   ],
   "source": [
    "opcode.opmap"
   ]
  }
 ],
 "metadata": {
  "kernelspec": {
   "display_name": "Python 3",
   "language": "python",
   "name": "python3"
  },
  "language_info": {
   "codemirror_mode": {
    "name": "ipython",
    "version": 3
   },
   "file_extension": ".py",
   "mimetype": "text/x-python",
   "name": "python",
   "nbconvert_exporter": "python",
   "pygments_lexer": "ipython3",
   "version": "3.7.3"
  }
 },
 "nbformat": 4,
 "nbformat_minor": 2
}
