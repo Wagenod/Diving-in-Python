{
 "cells": [
  {
   "cell_type": "markdown",
   "metadata": {},
   "source": [
    "# Тест на типы и конструкции\n",
    "\n",
    "#### ОБЩИЙ БАЛЛ 16"
   ]
  },
  {
   "cell_type": "markdown",
   "metadata": {},
   "source": [
    "1.  `10 / 2` – что получится в результате деления?\n",
    "    - **Вещественное число 5.0**\n",
    "    - Целое число 5\n",
    "    \n",
    " ---"
   ]
  },
  {
   "cell_type": "markdown",
   "metadata": {},
   "source": [
    "2.  `bool(0.0)` – True или False?  \n",
    "     - True   \n",
    "     - **False**\n",
    "     \n",
    " ---"
   ]
  },
  {
   "cell_type": "markdown",
   "metadata": {},
   "source": [
    "3. `x = 0`   \n",
    "   `y = 12`   \n",
    "   `name = x or y`   \n",
    "    Чему равно name?  \n",
    "    \n",
    "  - True   \n",
    "  - False   \n",
    "  - 0  \n",
    "  - **12**\n",
    "    \n",
    " ---"
   ]
  },
  {
   "cell_type": "markdown",
   "metadata": {},
   "source": [
    "4. Что выведет `print(r\"//\\\\\")` ?   \n",
    "\n",
    "    - //\\\\ (**верно**)\n",
    "    - /\\\n",
    "    - //\\\n",
    "    \n",
    "---"
   ]
  },
  {
   "cell_type": "markdown",
   "metadata": {},
   "source": [
    "5. Выберите правильные варианты объявления строки в Python?\n",
    "    \n",
    "     - **r\"строка\"**  \n",
    "     - **f\"строка\"**  \n",
    "     - **\"строка\"**  \n",
    "     - **'строка'**  \n",
    "     - **\"\"\"строка\"\"\"**\n",
    "     \n",
    "---"
   ]
  },
  {
   "cell_type": "markdown",
   "metadata": {},
   "source": [
    "6. Отметьте правдивые факты про строки  \n",
    "\n",
    "    - строки - это последовательность чисел от 0 до 255  \n",
    "    - **строки - это последовательность юникодных символов**  \n",
    "    - **строки в Python неизменяемые**  \n",
    "\n",
    "---"
   ]
  },
  {
   "cell_type": "markdown",
   "metadata": {},
   "source": [
    "7. Что получится в результате выполнения `\"a\"*3` ?  \n",
    "\n",
    "    - **Строка \"aaa\"**  \n",
    "    - Упадет исключение\n",
    "    \n",
    "---"
   ]
  },
  {
   "cell_type": "markdown",
   "metadata": {},
   "source": [
    "8. Что получится в результате выполнения среза `[::-1]` для строки `\"привет\"`?  \n",
    "\n",
    "    - \"т\"\n",
    "    - **\"тевирп\"**\n",
    "    \n",
    "    \n",
    " ---\n"
   ]
  },
  {
   "cell_type": "markdown",
   "metadata": {},
   "source": [
    "9. Срез `[:]` строки `\"привет\"`  \n",
    "\n",
    "    - приведет к исключению SyntaxError  \n",
    "    - **вернет копию строки \"привет\"**  \n",
    "    - вернет пустую строку\n",
    "    \n",
    "    \n",
    "---"
   ]
  },
  {
   "cell_type": "markdown",
   "metadata": {},
   "source": [
    "10. `bool(\"\")`  \n",
    "\n",
    "    - True  \n",
    "    - **False**\n",
    "    \n",
    "\n",
    "---"
   ]
  },
  {
   "cell_type": "markdown",
   "metadata": {},
   "source": [
    "11. Истинные выражения про байтовые строки  \n",
    "\n",
    "    - **Это последовательность чисел от 0 до 255**  \n",
    "    - Это последовательность юникодных символов\n",
    "    \n",
    "    \n",
    "---"
   ]
  },
  {
   "cell_type": "markdown",
   "metadata": {},
   "source": [
    "12. Какой метод превратит строку в байтовую строку?  \n",
    "\n",
    "    - `decode()`  \n",
    "    - **`encode()`**\n",
    "    \n",
    "    \n",
    "---"
   ]
  },
  {
   "cell_type": "markdown",
   "metadata": {},
   "source": [
    "13. Какие из записей не приведут к исключению?  \n",
    "\n",
    "    - **`b\"test\"`**  \n",
    "    - `b\"тест\"`  \n",
    "    - **`b\"\"`**\n",
    "    \n",
    "---"
   ]
  },
  {
   "cell_type": "markdown",
   "metadata": {},
   "source": [
    "14. Что выведет программа с if elif else?  \n",
    "\n",
    "    ```\n",
    "    x = \"Москва\"   \n",
    "    if \"ква\" not in x:  \n",
    "       print(\"1\")  \n",
    "    elif \"ва\" not in x: \n",
    "       print(\"2\")\n",
    "    else:\n",
    "       print(\"3\")\n",
    "    ```  \n",
    "\n",
    "    - 1  \n",
    "    - 2  \n",
    "    - **3**  \n",
    "    \n",
    "    \n",
    "---"
   ]
  },
  {
   "cell_type": "markdown",
   "metadata": {},
   "source": [
    "15. Что выведет программа?  \n",
    "\n",
    "    ```\n",
    "    n = 0\n",
    "    while n < 3:\n",
    "        if n > 0:\n",
    "            continue\n",
    "        else:\n",
    "            break\n",
    "        n += 1\n",
    "\n",
    "    print(n)\n",
    "    ```\n",
    "\n",
    "    - 2  \n",
    "    - Это бесконечный цикл  \n",
    "    - 3  \n",
    "    - **0**\n",
    "\n",
    "\n",
    "\n",
    "---"
   ]
  },
  {
   "cell_type": "markdown",
   "metadata": {},
   "source": [
    "16. Что выведет программа?  \n",
    "\n",
    "    ```\n",
    "    s = \"\"\n",
    "\n",
    "    for i in range(2, 10, 2):\n",
    "\t\ts += str(i)\n",
    "    print(s)\n",
    "    ```  \n",
    "    \n",
    "    - 23456789\n",
    "    - 246810\n",
    "    - **2468**"
   ]
  },
  {
   "cell_type": "code",
   "execution_count": null,
   "metadata": {},
   "outputs": [],
   "source": []
  }
 ],
 "metadata": {
  "kernelspec": {
   "display_name": "Python 3",
   "language": "python",
   "name": "python3"
  },
  "language_info": {
   "codemirror_mode": {
    "name": "ipython",
    "version": 3
   },
   "file_extension": ".py",
   "mimetype": "text/x-python",
   "name": "python",
   "nbconvert_exporter": "python",
   "pygments_lexer": "ipython3",
   "version": "3.7.3"
  }
 },
 "nbformat": 4,
 "nbformat_minor": 2
}
