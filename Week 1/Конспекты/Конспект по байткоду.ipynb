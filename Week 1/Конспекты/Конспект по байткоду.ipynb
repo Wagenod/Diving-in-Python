{
 "cells": [
  {
   "cell_type": "markdown",
   "metadata": {},
   "source": [
    "# 0. Введение\n",
    "\n",
    "После того, как мы запускаем исходный код программы, Python сначала компилирует исходный текст в байт-код для виртуальной машины.   \n",
    "\n",
    "**Компиляция** - это просто этап перевода, а байт-код это низкоуровневое платформонезависимое представление исходного текста программы.   \n",
    "\n",
    "Python транслирует каждую инструкцию в исходном коде программы в группы инструкций байт-кода для повышения скорости выполнения программы, так как байт-код выполняется намного быстрее. \n",
    "\n",
    "При импорте пакета или модуля создается файл с расширением `.pyc` по соседству с исходным файлом модуля `__init__.py` для пакета).  В следующий раз, когда мы захотим импортировать модуль (пакет) интерпретатор минует этап компиляции и отдаст на выполнение соответствующий откомпилированный файл с расширением `.pyc`. Однако, если мы изменяли исходный код модуля (файла `__init__.py` для пакета), то снова произойдет этап компиляции в байт-код, так как Python автоматически следит за датой изменения файла с исходным кодом.\n",
    "\n",
    "Если Python окажется не в состоянии записать файл с байт-кодом, например из-за отсутствия прав на запись на диск, то программа не пострадает, просто байт-код будет собран в памяти и при завершении программы оттуда удален.\n",
    "\n",
    "После того как пройдет процесс компиляции, байт-код передается механизму под названием виртуальная машина, которая и выполнит инструкции из байт-кода.  \n",
    "\n",
    "**Виртуальная машина** - это механизм, который осуществляет перевод байткода в машинный код и непостредственно само выполнение программы. Она является составляющей частью системы \"Интерпретатор Python\". \n",
    "\n",
    "\n",
    "<img src=\"img\\steps.png\">"
   ]
  },
  {
   "cell_type": "markdown",
   "metadata": {},
   "source": [
    "# 1. Практика\n",
    "\n",
    "Давайте создадим модуль `module.py`со следующим исходным кодом.\n",
    "\n",
    "```\n",
    "   #module.py\n",
    "    \n",
    "   print(\"Importing module module.py\")\n",
    "   \n",
    "   var_1 = 1\n",
    "   var_2 =\"VAR_2\"\n",
    "   \n",
    "   def foo():\n",
    "       print(\"In function foo\")\n",
    "   \n",
    "   foo()\n",
    "    \n",
    "   if __name__ == '__main__':\n",
    "        print(\"In __main__  part\")\n",
    "   \n",
    "```\n",
    "\n",
    "Импортируем его"
   ]
  },
  {
   "cell_type": "code",
   "execution_count": 1,
   "metadata": {},
   "outputs": [
    {
     "name": "stdout",
     "output_type": "stream",
     "text": [
      "Importing module module.py\n",
      "In function foo\n"
     ]
    }
   ],
   "source": [
    "import module"
   ]
  },
  {
   "cell_type": "markdown",
   "metadata": {},
   "source": [
    "Заметим, что создался `.pyc` файл с байткодом этого модуля по пути `module.__cached__`. "
   ]
  },
  {
   "cell_type": "code",
   "execution_count": 4,
   "metadata": {},
   "outputs": [
    {
     "data": {
      "text/plain": [
       "'C:\\\\Users\\\\admin\\\\Diving-in-Python\\\\Week 1\\\\Конспекты\\\\__pycache__\\\\module.cpython-37.pyc'"
      ]
     },
     "execution_count": 4,
     "metadata": {},
     "output_type": "execute_result"
    }
   ],
   "source": [
    "module.__cached__"
   ]
  },
  {
   "cell_type": "code",
   "execution_count": 5,
   "metadata": {},
   "outputs": [],
   "source": [
    "import dis"
   ]
  },
  {
   "cell_type": "code",
   "execution_count": 6,
   "metadata": {},
   "outputs": [
    {
     "name": "stdout",
     "output_type": "stream",
     "text": [
      "Disassembly of foo:\n",
      "  9           0 LOAD_GLOBAL              0 (print)\n",
      "              2 LOAD_CONST               1 ('In function foo')\n",
      "              4 CALL_FUNCTION            1\n",
      "              6 POP_TOP\n",
      "              8 LOAD_CONST               0 (None)\n",
      "             10 RETURN_VALUE\n",
      "\n"
     ]
    }
   ],
   "source": [
    "dis.dis(module)"
   ]
  },
  {
   "cell_type": "code",
   "execution_count": 10,
   "metadata": {},
   "outputs": [
    {
     "ename": "TypeError",
     "evalue": "don't know how to disassemble module objects",
     "output_type": "error",
     "traceback": [
      "\u001b[1;31m---------------------------------------------------------------------------\u001b[0m",
      "\u001b[1;31mTypeError\u001b[0m                                 Traceback (most recent call last)",
      "\u001b[1;32m<ipython-input-10-7f7abb73219c>\u001b[0m in \u001b[0;36m<module>\u001b[1;34m\u001b[0m\n\u001b[1;32m----> 1\u001b[1;33m \u001b[0mdis\u001b[0m\u001b[1;33m.\u001b[0m\u001b[0mcode_info\u001b[0m\u001b[1;33m(\u001b[0m\u001b[0mmodule\u001b[0m\u001b[1;33m)\u001b[0m\u001b[1;33m\u001b[0m\u001b[1;33m\u001b[0m\u001b[0m\n\u001b[0m",
      "\u001b[1;32mD:\\Anaconda\\lib\\dis.py\u001b[0m in \u001b[0;36mcode_info\u001b[1;34m(x)\u001b[0m\n\u001b[0;32m    142\u001b[0m \u001b[1;32mdef\u001b[0m \u001b[0mcode_info\u001b[0m\u001b[1;33m(\u001b[0m\u001b[0mx\u001b[0m\u001b[1;33m)\u001b[0m\u001b[1;33m:\u001b[0m\u001b[1;33m\u001b[0m\u001b[1;33m\u001b[0m\u001b[0m\n\u001b[0;32m    143\u001b[0m     \u001b[1;34m\"\"\"Formatted details of methods, functions, or code.\"\"\"\u001b[0m\u001b[1;33m\u001b[0m\u001b[1;33m\u001b[0m\u001b[0m\n\u001b[1;32m--> 144\u001b[1;33m     \u001b[1;32mreturn\u001b[0m \u001b[0m_format_code_info\u001b[0m\u001b[1;33m(\u001b[0m\u001b[0m_get_code_object\u001b[0m\u001b[1;33m(\u001b[0m\u001b[0mx\u001b[0m\u001b[1;33m)\u001b[0m\u001b[1;33m)\u001b[0m\u001b[1;33m\u001b[0m\u001b[1;33m\u001b[0m\u001b[0m\n\u001b[0m\u001b[0;32m    145\u001b[0m \u001b[1;33m\u001b[0m\u001b[0m\n\u001b[0;32m    146\u001b[0m \u001b[1;32mdef\u001b[0m \u001b[0m_format_code_info\u001b[0m\u001b[1;33m(\u001b[0m\u001b[0mco\u001b[0m\u001b[1;33m)\u001b[0m\u001b[1;33m:\u001b[0m\u001b[1;33m\u001b[0m\u001b[1;33m\u001b[0m\u001b[0m\n",
      "\u001b[1;32mD:\\Anaconda\\lib\\dis.py\u001b[0m in \u001b[0;36m_get_code_object\u001b[1;34m(x)\u001b[0m\n\u001b[0;32m    138\u001b[0m         \u001b[1;32mreturn\u001b[0m \u001b[0mx\u001b[0m\u001b[1;33m\u001b[0m\u001b[1;33m\u001b[0m\u001b[0m\n\u001b[0;32m    139\u001b[0m     raise TypeError(\"don't know how to disassemble %s objects\" %\n\u001b[1;32m--> 140\u001b[1;33m                     type(x).__name__)\n\u001b[0m\u001b[0;32m    141\u001b[0m \u001b[1;33m\u001b[0m\u001b[0m\n\u001b[0;32m    142\u001b[0m \u001b[1;32mdef\u001b[0m \u001b[0mcode_info\u001b[0m\u001b[1;33m(\u001b[0m\u001b[0mx\u001b[0m\u001b[1;33m)\u001b[0m\u001b[1;33m:\u001b[0m\u001b[1;33m\u001b[0m\u001b[1;33m\u001b[0m\u001b[0m\n",
      "\u001b[1;31mTypeError\u001b[0m: don't know how to disassemble module objects"
     ]
    }
   ],
   "source": [
    "dis.code_info(module)"
   ]
  },
  {
   "cell_type": "code",
   "execution_count": 29,
   "metadata": {},
   "outputs": [],
   "source": [
    "with open('__pycache__/module.cpython-37.pyc', 'r') as f:\n",
    "    lines = f.read()"
   ]
  },
  {
   "cell_type": "code",
   "execution_count": 30,
   "metadata": {},
   "outputs": [
    {
     "data": {
      "text/plain": [
       "'klkl'"
      ]
     },
     "execution_count": 30,
     "metadata": {},
     "output_type": "execute_result"
    }
   ],
   "source": [
    "b'klkl'.decode()"
   ]
  },
  {
   "cell_type": "code",
   "execution_count": 36,
   "metadata": {},
   "outputs": [
    {
     "data": {
      "text/plain": [
       "str"
      ]
     },
     "execution_count": 36,
     "metadata": {},
     "output_type": "execute_result"
    }
   ],
   "source": []
  },
  {
   "cell_type": "code",
   "execution_count": null,
   "metadata": {},
   "outputs": [],
   "source": []
  }
 ],
 "metadata": {
  "kernelspec": {
   "display_name": "Python 3",
   "language": "python",
   "name": "python3"
  },
  "language_info": {
   "codemirror_mode": {
    "name": "ipython",
    "version": 3
   },
   "file_extension": ".py",
   "mimetype": "text/x-python",
   "name": "python",
   "nbconvert_exporter": "python",
   "pygments_lexer": "ipython3",
   "version": "3.7.3"
  }
 },
 "nbformat": 4,
 "nbformat_minor": 2
}
